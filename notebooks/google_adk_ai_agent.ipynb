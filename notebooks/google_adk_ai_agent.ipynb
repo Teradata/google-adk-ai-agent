{
 "cells": [
  {
   "cell_type": "markdown",
   "id": "3994c1e2-8f01-4781-ac8f-5c77988301b5",
   "metadata": {},
   "source": [
    "# Build Your First AI Agent with Google ADK and Teradata (Part 1)"
   ]
  },
  {
   "cell_type": "markdown",
   "id": "7945e1a4-7033-453e-9e7c-6c9a52202226",
   "metadata": {},
   "source": [
    "## Setting Up the Project \n",
    "\n",
    "This section outlines the steps required to set up the project:  \n",
    "- Install Google ADK and import necessary libraries  \n",
    "- Setup the required API keys and associated values\n",
    "- Establish the database connection  \n",
    "- Load the sample data into the Teradata database  \n"
   ]
  },
  {
   "cell_type": "code",
   "execution_count": null,
   "id": "d1cc11e9-5cd8-420e-8edf-0265e153601e",
   "metadata": {},
   "outputs": [],
   "source": [
    "# Install agent development kit\n",
    "!pip install google-adk"
   ]
  },
  {
   "cell_type": "code",
   "execution_count": null,
   "id": "4cdb0d36-84a6-4b2f-80bd-e5f35674f01f",
   "metadata": {},
   "outputs": [],
   "source": [
    "from google.adk.agents import LlmAgent, Agent\n",
    "from google.adk.sessions import InMemorySessionService\n",
    "from google.adk.runners import Runner\n",
    "from teradataml import *\n",
    "import pandas as pd"
   ]
  },
  {
   "cell_type": "code",
   "execution_count": null,
   "id": "a9f32ff5-b284-4146-aff8-bff91043715d",
   "metadata": {},
   "outputs": [],
   "source": [
    "# Gemini API Key (Get from Google AI Studio: https://aistudio.google.com/app/apikey)\n",
    "os.environ[\"GOOGLE_API_KEY\"] = \"Your_api_key\" # <--- REPLACE\n",
    "\n",
    "# Configure ADK to use API keys directly (not Vertex AI for this multi-model setup)\n",
    "os.environ[\"GOOGLE_GENAI_USE_VERTEXAI\"] = \"False\"\n",
    "\n",
    "# Agent model\n",
    "AGENT_MODEL = \"gemini-2.0-flash-001\""
   ]
  },
  {
   "cell_type": "code",
   "execution_count": null,
   "id": "698723f0-d2d6-4c35-9522-ceca0718d3fa",
   "metadata": {},
   "outputs": [],
   "source": [
    "%run -i ../startup.ipynb\n",
    "eng = create_context(host = 'host.docker.internal', username='demo_user', password = password)\n",
    "print(eng)"
   ]
  },
  {
   "cell_type": "code",
   "execution_count": null,
   "id": "56b1a66f-c7cf-4b06-a002-6972860ecc67",
   "metadata": {},
   "outputs": [],
   "source": [
    "data_loading_queries = [\n",
    "'''\n",
    "CREATE DATABASE energy_consumption\n",
    "AS PERMANENT = 50000000;\n",
    "''',\n",
    "'''\n",
    "CREATE TABLE energy_consumption.march AS\n",
    "(\n",
    "  SELECT usage_date, kwh_consumed\n",
    "     FROM (\n",
    "\t\tLOCATION='/s3/dev-rel-demos.s3.amazonaws.com/google_adk/energy_usage_march_2025.csv') as consumption\n",
    ") WITH DATA;\n",
    "'''\n",
    "]\n",
    "for query in data_loading_queries:\n",
    "    execute_sql(query)"
   ]
  },
  {
   "cell_type": "markdown",
   "id": "a49dfca8-014d-4d56-b536-4d625c34a122",
   "metadata": {},
   "source": [
    "# Configuring the Agent\n",
    "\n",
    "This section contains configuration of agent:\n",
    "- Create a tool to query data\n",
    "- Define the Agent\n",
    "- Create session and runner"
   ]
  },
  {
   "cell_type": "code",
   "execution_count": null,
   "id": "fc4b92dc-4efe-41ed-9ffe-4b500d84b898",
   "metadata": {},
   "outputs": [],
   "source": [
    "def get_consumption_data(month: str) -> list[dict]:\n",
    "    \"\"\"Get the data for the whole month\"\"\"\n",
    "    \n",
    "    print(f\"---Tool: get_consumption_data called for: {month}---\")\n",
    "    month_normalized = month.lower().replace(\" \",\"\")\n",
    "    tables_df = db_list_tables(schema_name=\"energy_consumption\")\n",
    "    \n",
    "    if month_normalized in tables_df[\"TableName\"].to_list():\n",
    "        query = '''select * from energy_consumption.%s''' %month_normalized\n",
    "        td_df = DataFrame.from_query(query)\n",
    "        df = td_df.to_pandas()\n",
    "        df['usage_date'] = pd.to_datetime(df['usage_date']).dt.strftime('%d-%m-%Y')\n",
    "        values = df['kwh_consumed']\n",
    "        total = int(values.sum())\n",
    "        average = float(values.mean())\n",
    "        hi_idx  = values.idxmax()\n",
    "        lo_idx  = values.idxmin()\n",
    "        highest = {\"date\": df.at[hi_idx, \"usage_date\"], \"kwh\": int(values[hi_idx])}\n",
    "        lowest  = {\"date\": df.at[lo_idx, \"usage_date\"], \"kwh\": int(values[lo_idx])}\n",
    "        \n",
    "        # Convert to list of dicts\n",
    "        records = df.to_dict(orient='records')\n",
    "        return {\n",
    "            \"daily_records\":records,\n",
    "            \"Summary\":{\n",
    "             \"total_consumption\":total,\n",
    "            \"average_daily\":average,\n",
    "            \"highest_day\":highest,\n",
    "            \"lowest_day\":lowest\n",
    "            }\n",
    "        }\n",
    "    else:\n",
    "        return {\"status\": \"error\", \"error_message\": f\"Sorry, I don't have energy consumption data of '{month}'month.\"}\n",
    "\n",
    "# (Optional) Test the tool\n",
    "# get_consumption_data(\"March\")"
   ]
  },
  {
   "cell_type": "code",
   "execution_count": null,
   "id": "e859146b",
   "metadata": {},
   "outputs": [],
   "source": [
    "energy_analytics_agent = Agent(\n",
    "    name = \"energy_analytics_agent\",\n",
    "    model = AGENT_MODEL,\n",
    "    description = (\n",
    "        \"Agent to analyse the energy consumption in a month\"\n",
    "        ),\n",
    "    instruction = (\n",
    "        \"You are an Energy Analytics Agent. When a user provides a month name, you must:\"\n",
    "        \"1. Invoke the tool get_consumption_data(month) to fetch the month's energy consumption data. This tool returns a dictionary containing two keys:\"\n",
    "        \"   •  daily_records: A Python list of dictionaries, where each dictionary has keys usage_date (DD-MM-YYYY) and kwh_consumed (int).\"\n",
    "        \"   •  Summary: A dictionary containing summary statistics: total_consumption (int), average_daily (float), highest_day (dict with date and kwh), and lowest_day (dict with date and kwh).\"\n",
    "        \"2. Based on the user's request and the data retrieved from get_consumption_data, perform analysis such as:\"\n",
    "        \"   • Retrieving the consumption for a specific date from the daily_records.\"\n",
    "        \"   • Reporting the total_consumption, average_daily, highest_day, and lowest_day from the Summary.\"\n",
    "        \"   • Calculating weekly totals by grouping daily_records by week.\"\n",
    "        \"   • Identifying spikes (days > 20% above the average_daily) and drops (days > 20% below the average_daily) by comparing individual kwh_consumed in daily_records with the average_daily from the Summary.\"\n",
    "        \"   • Analyzing potential correlations between weekdays and weekends by examining the daily_records.\"\n",
    "        \"3. When explicitly asked for insights or recommendations, analyze the data (especially anomalies and trends) and provide at least two actionable insights or recommendations related to energy consumption patterns (e.g., reasons for high/low consumption, efficiency suggestions).\"\n",
    "        \"4. Always respond in Markdown, if asked, organize output into these sections:\"\n",
    "        \"   **Summary Statistics**, **Anomalies Detected**, **Insights & Recommendations**.\"\n",
    "        ),\n",
    "    tools = [get_consumption_data]\n",
    "    )"
   ]
  },
  {
   "cell_type": "code",
   "execution_count": null,
   "id": "c6acaace-0ac0-4b15-9c73-38e0c26c7a70",
   "metadata": {},
   "outputs": [],
   "source": [
    "# --- Constants ---\n",
    "APP_NAME = \"energy_analytics_app\"\n",
    "USER_ID = \"123\"\n",
    "SESSION_ID = \"123001\"\n",
    "\n",
    "# --- Session Management ---\n",
    "session_service = InMemorySessionService()\n",
    "session = await session_service.create_session(\n",
    "    app_name=APP_NAME,\n",
    "    user_id=USER_ID,\n",
    "    session_id=SESSION_ID\n",
    ")\n",
    "print(f\"Session created: App='{APP_NAME}', User='{USER_ID}', Session='{SESSION_ID}'\")\n",
    "\n",
    "# --- Runner ---\n",
    "runner = Runner(\n",
    "    agent=energy_analytics_agent, # The agent we want to run\n",
    "    app_name=APP_NAME,   # Associates runs with our app\n",
    "    session_service=session_service # Uses our session manager\n",
    ")\n",
    "print(f\"Runner created for agent '{runner.agent.name}'.\")"
   ]
  },
  {
   "cell_type": "markdown",
   "id": "b32a276e-3b56-4415-8ee9-d3fc20c6d260",
   "metadata": {},
   "source": [
    "# Running the Agent\n",
    "\n",
    "This section handles the communication with Agent and presents the response to the user:\n",
    "- Create function to handle user query asynchornously\n",
    "- Define user query function\n"
   ]
  },
  {
   "cell_type": "code",
   "execution_count": null,
   "id": "6b8c7994-24c2-48b8-9266-8c7ccb695413",
   "metadata": {},
   "outputs": [],
   "source": [
    "import asyncio\n",
    "from google.genai import types\n",
    "\n",
    "async def call_agent_async(query: str):\n",
    "    \"\"\"Sends a query to the agent and prints the final response.\"\"\"\n",
    "    print(f\"\\n>>> User Query: {query}\")\n",
    "    \n",
    "    # Prepare the user's message in ADK format\n",
    "    content = types.Content(role='user', parts=[types.Part(text=query)])\n",
    "    \n",
    "    final_response_text = \"Agent did not produce a final response.\" # Default\n",
    "\n",
    "    async for event in runner.run_async(user_id=USER_ID, session_id=SESSION_ID, new_message=content):\n",
    "        if event.is_final_response():\n",
    "            if event.content and event.content.parts:\n",
    "                final_response_text = event.content.parts[0].text\n",
    "            elif event.actions and event.actions.escalate:\n",
    "                final_response_text = f\"Agent escalated: {event.error_message or 'No specific message.'}\"\n",
    "            break\n",
    "            \n",
    "    print(f\"<<< Agent Response: {final_response_text}\")"
   ]
  },
  {
   "cell_type": "code",
   "execution_count": null,
   "id": "a33ff959-9d19-4c0b-8be9-f4ab81ba19a2",
   "metadata": {},
   "outputs": [],
   "source": [
    "async def run_conversation():\n",
    "    # await call_agent_async(\"What is the total power consumption in March?\")\n",
    "    # await call_agent_async(\"How about April?\") # Expecting the tool's error message\n",
    "    await call_agent_async(\"Tell me about the energy consumption of March\")\n",
    "\n",
    "# Execute the conversation using await in an async context (like Colab/Jupyter)\n",
    "await run_conversation()"
   ]
  },
  {
   "cell_type": "markdown",
   "id": "9c625382",
   "metadata": {},
   "source": [
    "# Cleaning the testing data"
   ]
  },
  {
   "cell_type": "code",
   "execution_count": null,
   "id": "ba64e7a4-f6e4-4d67-857c-fbf43dcab50e",
   "metadata": {},
   "outputs": [],
   "source": [
    "data_cleaning_queries = [\n",
    "'''\n",
    "DELETE DATABASE energy_consumption ALL;\n",
    "''',\n",
    "'''\n",
    "DROP DATABASE energy_consumption\n",
    "'''\n",
    "]\n",
    "for query in data_cleaning_queries:\n",
    "    execute_sql(query)"
   ]
  }
 ],
 "metadata": {
  "kernelspec": {
   "display_name": "Python 3 (ipykernel)",
   "language": "python",
   "name": "python3"
  },
  "language_info": {
   "codemirror_mode": {
    "name": "ipython",
    "version": 3
   },
   "file_extension": ".py",
   "mimetype": "text/x-python",
   "name": "python",
   "nbconvert_exporter": "python",
   "pygments_lexer": "ipython3",
   "version": "3.9.10"
  }
 },
 "nbformat": 4,
 "nbformat_minor": 5
}
